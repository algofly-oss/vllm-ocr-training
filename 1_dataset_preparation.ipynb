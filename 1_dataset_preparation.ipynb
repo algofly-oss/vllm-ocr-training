{
 "cells": [
  {
   "cell_type": "markdown",
   "id": "334b1dcf",
   "metadata": {},
   "source": [
    "We need the dataset in below format  \n",
    "`Note: each text file contains ocr value to be recognized in the image.`\n",
    "    \n",
    "```\n",
    "/dataset-root\n",
    "    ├── train\n",
    "    │   ├── image1.jpg\n",
    "    │   ├── image1.txt\n",
    "    │   ├── image2.jpg\n",
    "    │   ├── image2.txt\n",
    "    │   └── ...\n",
    "    ├── val\n",
    "    │   ├── image1.jpg\n",
    "    │   ├── image1.txt\n",
    "    │   ├── image2.jpg\n",
    "    │   ├── image2.txt\n",
    "    │   └── ...\n",
    "```"
   ]
  },
  {
   "cell_type": "code",
   "execution_count": 66,
   "id": "4444e8b2",
   "metadata": {},
   "outputs": [],
   "source": [
    "import os\n",
    "import io\n",
    "import hashlib\n",
    "import pandas as pd\n",
    "from PIL import Image\n",
    "from tqdm import tqdm\n",
    "\n",
    "# Download a sample dataset to work with\n",
    "splits = {'train': 'data/train-00000-of-00001.parquet', 'test': 'data/test-00000-of-00001.parquet'}\n",
    "df_train = pd.read_parquet(\"hf://datasets/henrik-dra/energy-meter/\" + splits[\"train\"])\n",
    "df_val = pd.read_parquet(\"hf://datasets/henrik-dra/energy-meter/\" + splits[\"test\"])\n",
    "\n",
    "output_dir = os.path.join(download_dir, \"train\")\n",
    "os.makedirs(output_dir, exist_ok=True)\n",
    "for _, row in tqdm(df_train.iterrows(), total=len(df_train)):\n",
    "    image = Image.open(io.BytesIO(row['image']['bytes'])).convert(\"RGB\")\n",
    "    image_hash = hashlib.md5(image.tobytes()).hexdigest()\n",
    "    image.save(os.path.join(output_dir, f\"{image_hash}.jpg\"))\n",
    "    with open(os.path.join(output_dir, f\"{image_hash}.txt\"), \"w\") as f:\n",
    "        f.write(row['label'])\n",
    "\n",
    "output_dir = os.path.join(download_dir, \"val\")\n",
    "os.makedirs(output_dir, exist_ok=True)\n",
    "for _, row in tqdm(df_val.iterrows(), total=len(df_val)):\n",
    "    image = Image.open(io.BytesIO(row['image']['bytes'])).convert(\"RGB\")\n",
    "    image_hash = hashlib.md5(image.tobytes()).hexdigest()\n",
    "    image.save(os.path.join(output_dir, f\"{image_hash}.jpg\"))\n",
    "    with open(os.path.join(output_dir, f\"{image_hash}.txt\"), \"w\") as f:\n",
    "        f.write(row['label'])"
   ]
  }
 ],
 "metadata": {
  "kernelspec": {
   "display_name": "Python 3 (ipykernel)",
   "language": "python",
   "name": "python3"
  },
  "language_info": {
   "codemirror_mode": {
    "name": "ipython",
    "version": 3
   },
   "file_extension": ".py",
   "mimetype": "text/x-python",
   "name": "python",
   "nbconvert_exporter": "python",
   "pygments_lexer": "ipython3",
   "version": "3.10.12"
  }
 },
 "nbformat": 4,
 "nbformat_minor": 5
}
