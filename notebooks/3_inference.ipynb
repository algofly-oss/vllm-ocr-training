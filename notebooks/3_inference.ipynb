{
 "cells": [
  {
   "cell_type": "code",
   "execution_count": null,
   "id": "9fbde97d",
   "metadata": {},
   "outputs": [],
   "source": [
    "import gc\n",
    "import os\n",
    "import glob\n",
    "import torch\n",
    "from tqdm import tqdm\n",
    "from PIL import Image\n",
    "from transformers import AutoModelForCausalLM, AutoProcessor"
   ]
  },
  {
   "cell_type": "code",
   "execution_count": null,
   "id": "36fe0fa6",
   "metadata": {},
   "outputs": [],
   "source": [
    "device = torch.device(\"cuda:0\" if torch.cuda.is_available() else \"cpu\")\n",
    "model = AutoModelForCausalLM.from_pretrained(\"./weights/model_best\", trust_remote_code=True).eval().to(device)\n",
    "processor = AutoProcessor.from_pretrained(\"./weights/model_best\", trust_remote_code=True)"
   ]
  },
  {
   "cell_type": "code",
   "execution_count": 5,
   "id": "e2e9ae80",
   "metadata": {},
   "outputs": [],
   "source": [
    "def infer(image, prompt=\"What is the printed values?\", max_new_tokens=128):\n",
    "    torch.cuda.empty_cache()\n",
    "\n",
    "    if image.mode != \"RGB\":\n",
    "        image = image.convert(\"RGB\")\n",
    "\n",
    "    with torch.inference_mode():\n",
    "        inputs = processor(text=prompt, images=image, return_tensors=\"pt\").to(device)\n",
    "        generated_ids = model.generate(\n",
    "            input_ids=inputs[\"input_ids\"],\n",
    "            pixel_values=inputs[\"pixel_values\"],\n",
    "            max_new_tokens=max_new_tokens,\n",
    "            num_beams=3\n",
    "        )\n",
    "        generated_text = processor.batch_decode(generated_ids, skip_special_tokens=True)[0]\n",
    "        parsed_answer = processor.post_process_generation(generated_text, task=\"response\", image_size=(image.width, image.height))[\"response\"]\n",
    "        \n",
    "        inputs[\"input_ids\"] = inputs[\"input_ids\"].detach()\n",
    "        inputs[\"pixel_values\"] = inputs[\"pixel_values\"].detach()\n",
    "        generated_ids = generated_ids.detach()\n",
    "        del inputs, generated_ids, generated_text\n",
    "        torch.cuda.empty_cache()\n",
    "\n",
    "        return parsed_answer"
   ]
  },
  {
   "cell_type": "code",
   "execution_count": null,
   "id": "5c0c2756",
   "metadata": {},
   "outputs": [],
   "source": [
    "images_path = glob.glob(\"./dataset/energy-meter/val/*.jpg\")\n",
    "\n",
    "for image_path in images_path[:5]:\n",
    "    image = Image.open(image_path).resize((256, 128))\n",
    "    label = infer(image)\n",
    "    display(image)\n",
    "    print(label, end=\"\\n\\n\")"
   ]
  }
 ],
 "metadata": {
  "kernelspec": {
   "display_name": "Python 3 (ipykernel)",
   "language": "python",
   "name": "python3"
  },
  "language_info": {
   "codemirror_mode": {
    "name": "ipython",
    "version": 3
   },
   "file_extension": ".py",
   "mimetype": "text/x-python",
   "name": "python",
   "nbconvert_exporter": "python",
   "pygments_lexer": "ipython3",
   "version": "3.10.12"
  }
 },
 "nbformat": 4,
 "nbformat_minor": 5
}
